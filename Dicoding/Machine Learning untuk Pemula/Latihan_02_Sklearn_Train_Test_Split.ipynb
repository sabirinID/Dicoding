{
  "nbformat": 4,
  "nbformat_minor": 0,
  "metadata": {
    "colab": {
      "provenance": []
    },
    "kernelspec": {
      "name": "python3",
      "display_name": "Python 3"
    }
  },
  "cells": [
    {
      "cell_type": "markdown",
      "source": [
        "# Latihan Sklearn Train Test Split\n",
        "\n",
        "## Tujuan\n",
        "\n",
        "Pada codelab ini kita akan belajar membagi dataset menggunakan fungsi Train Test Split dari library sklearn.\n",
        "\n",
        "## Tahapan Latihan\n",
        "\n",
        "Untuk latihan membagi dataset terdiri dari tahapan-tahapan sebagai berikut:\n",
        "\n",
        "1. Persiapkan dataset ke dalam Notebook.\n",
        "2. Import library `sklearn`.\n",
        "3. Buat variabel untuk menampung data training dan data testing.\n",
        "4. Panggil fungsi `train_test_split()`."
      ],
      "metadata": {
        "id": "h6LJoACNfDtZ"
      }
    },
    {
      "cell_type": "code",
      "metadata": {
        "id": "TAHXBKGZakx7"
      },
      "source": [
        "import sklearn\n",
        "from sklearn import datasets"
      ],
      "execution_count": 1,
      "outputs": []
    },
    {
      "cell_type": "code",
      "metadata": {
        "id": "OCVri9w1a3FC"
      },
      "source": [
        "# Memuat iris dataset\n",
        "iris = datasets.load_iris()"
      ],
      "execution_count": 2,
      "outputs": []
    },
    {
      "cell_type": "code",
      "metadata": {
        "id": "YQQNNyaDa3qr"
      },
      "source": [
        "# Memiisahkan atribut dan label pada iris dataset\n",
        "x=iris.data\n",
        "y=iris.target"
      ],
      "execution_count": 3,
      "outputs": []
    },
    {
      "cell_type": "code",
      "metadata": {
        "id": "R5KCRydTa9Uo"
      },
      "source": [
        "from sklearn.model_selection import train_test_split\n",
        "\n",
        "# Membagi dataset menjadi training dan testing\n",
        "x_train, x_test, y_train, y_test = train_test_split(x, y, test_size=0.2, random_state=1)"
      ],
      "execution_count": 4,
      "outputs": []
    },
    {
      "cell_type": "code",
      "metadata": {
        "colab": {
          "base_uri": "https://localhost:8080/"
        },
        "id": "UIa0AB4w325-",
        "outputId": "3dd1f9c3-f0e0-47eb-f021-ec6b4f71acdf"
      },
      "source": [
        "# Menghitung panjang/jumlah data pada masing-masing direktori split\n",
        "print(len(x))\n",
        "print(len(x_train))\n",
        "print(len(x_test))\n",
        "print(len(y_train))\n",
        "print(len(y_test))"
      ],
      "execution_count": 5,
      "outputs": [
        {
          "output_type": "stream",
          "name": "stdout",
          "text": [
            "150\n",
            "120\n",
            "30\n",
            "120\n",
            "30\n"
          ]
        }
      ]
    }
  ]
}