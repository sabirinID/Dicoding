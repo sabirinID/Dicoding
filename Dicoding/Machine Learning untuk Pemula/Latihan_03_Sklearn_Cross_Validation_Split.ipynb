{
  "nbformat": 4,
  "nbformat_minor": 0,
  "metadata": {
    "colab": {
      "provenance": []
    },
    "kernelspec": {
      "name": "python3",
      "display_name": "Python 3"
    }
  },
  "cells": [
    {
      "cell_type": "markdown",
      "source": [
        "# Latihan SKLearn Cross Validation Split\n",
        "\n",
        "## Tujuan\n",
        "\n",
        "Pada codelab kali ini kita akan menggunakan `cross_val_score` pada `DecisionTreeClassifier`. Dataset yang digunakan adalah dataset iris.\n",
        "\n",
        "## Tahapan Latihan\n",
        "\n",
        "Tahapan yang dilakukan pada codelab ini sebagai berikut:\n",
        "\n",
        "1. Import library yang dibutuhkan.\n",
        "2. Pisahkan antara atribut dan label pada dataset.\n",
        "3. Buat model decision tree.\n",
        "4. Hitung hasil cross validation dari model dengan fungsi `cross_val_score()`."
      ],
      "metadata": {
        "id": "cJqdLV0qh78U"
      }
    },
    {
      "cell_type": "code",
      "metadata": {
        "id": "4c-FFv1xfZMj"
      },
      "source": [
        "import sklearn\n",
        "from sklearn import datasets\n",
        "\n",
        "# Memuat iris dataset\n",
        "iris = datasets.load_iris()"
      ],
      "execution_count": 1,
      "outputs": []
    },
    {
      "cell_type": "code",
      "metadata": {
        "id": "O4BfrSX0gnAw"
      },
      "source": [
        "# Membagi atribut dan target, assign ke dalam variable x, y\n",
        "x=iris.data\n",
        "y=iris.target"
      ],
      "execution_count": 2,
      "outputs": []
    },
    {
      "cell_type": "code",
      "metadata": {
        "id": "41CcVDOIgC8w"
      },
      "source": [
        "from sklearn.model_selection import cross_val_score\n",
        "from sklearn import tree\n",
        "\n",
        "clf = tree.DecisionTreeClassifier()"
      ],
      "execution_count": 3,
      "outputs": []
    },
    {
      "cell_type": "code",
      "metadata": {
        "id": "gpWsdO5wgDlj",
        "outputId": "d8b9e074-6e43-4bda-a8cf-874ecfb1f75c",
        "colab": {
          "base_uri": "https://localhost:8080/"
        }
      },
      "source": [
        "# Mengevaluasi performa model dengan cross_val_score\n",
        "scores = cross_val_score(clf, x, y, cv=5)\n",
        "scores"
      ],
      "execution_count": 4,
      "outputs": [
        {
          "output_type": "execute_result",
          "data": {
            "text/plain": [
              "array([0.96666667, 0.96666667, 0.9       , 1.        , 1.        ])"
            ]
          },
          "metadata": {},
          "execution_count": 4
        }
      ]
    }
  ]
}